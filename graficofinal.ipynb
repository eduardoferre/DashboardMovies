{
 "cells": [
  {
   "cell_type": "code",
   "execution_count": 5,
   "metadata": {},
   "outputs": [],
   "source": [
    "from dash import Dash, dcc, html, Input, Output\n",
    "import pandas as pd\n",
    "import plotly.express as px\n"
   ]
  },
  {
   "cell_type": "code",
   "execution_count": 6,
   "metadata": {},
   "outputs": [
    {
     "data": {
      "text/html": [
       "<div>\n",
       "<style scoped>\n",
       "    .dataframe tbody tr th:only-of-type {\n",
       "        vertical-align: middle;\n",
       "    }\n",
       "\n",
       "    .dataframe tbody tr th {\n",
       "        vertical-align: top;\n",
       "    }\n",
       "\n",
       "    .dataframe thead th {\n",
       "        text-align: right;\n",
       "    }\n",
       "</style>\n",
       "<table border=\"1\" class=\"dataframe\">\n",
       "  <thead>\n",
       "    <tr style=\"text-align: right;\">\n",
       "      <th></th>\n",
       "      <th>Genre</th>\n",
       "      <th>Rank</th>\n",
       "      <th>RatingTomatometer</th>\n",
       "      <th>Title</th>\n",
       "      <th>No. of Reviews</th>\n",
       "    </tr>\n",
       "  </thead>\n",
       "  <tbody>\n",
       "    <tr>\n",
       "      <th>0</th>\n",
       "      <td>Ação e Aventura</td>\n",
       "      <td>1.0</td>\n",
       "      <td>96%</td>\n",
       "      <td>Black Panther (2018)</td>\n",
       "      <td>525</td>\n",
       "    </tr>\n",
       "    <tr>\n",
       "      <th>1</th>\n",
       "      <td>Ação e Aventura</td>\n",
       "      <td>3.0</td>\n",
       "      <td>97%</td>\n",
       "      <td>Mission: Impossible - Fallout (2018)</td>\n",
       "      <td>437</td>\n",
       "    </tr>\n",
       "    <tr>\n",
       "      <th>2</th>\n",
       "      <td>Ação e Aventura</td>\n",
       "      <td>4.0</td>\n",
       "      <td>97%</td>\n",
       "      <td>Mad Max: Fury Road (2015)</td>\n",
       "      <td>434</td>\n",
       "    </tr>\n",
       "    <tr>\n",
       "      <th>3</th>\n",
       "      <td>Ação e Aventura</td>\n",
       "      <td>5.0</td>\n",
       "      <td>97%</td>\n",
       "      <td>Spider-Man: Into the Spider-Verse (2018)</td>\n",
       "      <td>393</td>\n",
       "    </tr>\n",
       "    <tr>\n",
       "      <th>4</th>\n",
       "      <td>Ação e Aventura</td>\n",
       "      <td>8.0</td>\n",
       "      <td>97%</td>\n",
       "      <td>Coco (2017)</td>\n",
       "      <td>354</td>\n",
       "    </tr>\n",
       "  </tbody>\n",
       "</table>\n",
       "</div>"
      ],
      "text/plain": [
       "             Genre  Rank RatingTomatometer  \\\n",
       "0  Ação e Aventura   1.0               96%   \n",
       "1  Ação e Aventura   3.0               97%   \n",
       "2  Ação e Aventura   4.0               97%   \n",
       "3  Ação e Aventura   5.0               97%   \n",
       "4  Ação e Aventura   8.0               97%   \n",
       "\n",
       "                                      Title  No. of Reviews  \n",
       "0                      Black Panther (2018)             525  \n",
       "1      Mission: Impossible - Fallout (2018)             437  \n",
       "2                 Mad Max: Fury Road (2015)             434  \n",
       "3  Spider-Man: Into the Spider-Verse (2018)             393  \n",
       "4                               Coco (2017)             354  "
      ]
     },
     "execution_count": 6,
     "metadata": {},
     "output_type": "execute_result"
    }
   ],
   "source": [
    "data = pd.read_csv('top_movies_by_gender.csv')\n",
    "data.head()"
   ]
  },
  {
   "cell_type": "code",
   "execution_count": 7,
   "metadata": {},
   "outputs": [],
   "source": [
    "data2 = data.values.tolist()\n",
    "lista_gen = []\n",
    "for row in data2:\n",
    "    if row[0] not in lista_gen:\n",
    "        lista_gen.append(row[0])"
   ]
  },
  {
   "cell_type": "code",
   "execution_count": 8,
   "metadata": {},
   "outputs": [],
   "source": [
    "conta_gen = len(lista_gen) * [0]\n",
    "for movie in data2:\n",
    "    ix = 0\n",
    "    while ix < len(lista_gen):\n",
    "        if(lista_gen[ix] == movie[0]):\n",
    "            break\n",
    "        ix += 1\n",
    "    conta_gen[ix] += 1"
   ]
  },
  {
   "cell_type": "code",
   "execution_count": 9,
   "metadata": {},
   "outputs": [],
   "source": [
    "indice = 0\n",
    "lista_gen_qtd = []\n",
    "while indice < len(lista_gen):\n",
    "    fil_bil = [lista_gen[indice], conta_gen[indice]]\n",
    "    lista_gen_qtd.append(fil_bil)\n",
    "    indice += 1"
   ]
  },
  {
   "cell_type": "code",
   "execution_count": 10,
   "metadata": {},
   "outputs": [],
   "source": [
    "df = pd.DataFrame(lista_gen_qtd, columns=['Gêneros', 'Quantidade'])\n"
   ]
  },
  {
   "cell_type": "code",
   "execution_count": 18,
   "metadata": {},
   "outputs": [
    {
     "ename": "ValueError",
     "evalue": "Mime type rendering requires nbformat>=4.2.0 but it is not installed",
     "output_type": "error",
     "traceback": [
      "\u001b[1;31m---------------------------------------------------------------------------\u001b[0m",
      "\u001b[1;31mValueError\u001b[0m                                Traceback (most recent call last)",
      "\u001b[1;32mc:\\Users\\almei\\OneDrive\\Documents\\Graduacao\\Trabalho Grafico\\Finish\\graficofinal.ipynb Célula: 7\u001b[0m in \u001b[0;36m<cell line: 6>\u001b[1;34m()\u001b[0m\n\u001b[0;32m      <a href='vscode-notebook-cell:/c%3A/Users/almei/OneDrive/Documents/Graduacao/Trabalho%20Grafico/Finish/graficofinal.ipynb#W6sZmlsZQ%3D%3D?line=0'>1</a>\u001b[0m grafico \u001b[39m=\u001b[39m px\u001b[39m.\u001b[39mbar(df, x\u001b[39m=\u001b[39m\u001b[39m'\u001b[39m\u001b[39mGêneros\u001b[39m\u001b[39m'\u001b[39m, y\u001b[39m=\u001b[39m\u001b[39m'\u001b[39m\u001b[39mQuantidade\u001b[39m\u001b[39m'\u001b[39m, color\u001b[39m=\u001b[39m\u001b[39m\"\u001b[39m\u001b[39mGêneros\u001b[39m\u001b[39m\"\u001b[39m,\n\u001b[0;32m      <a href='vscode-notebook-cell:/c%3A/Users/almei/OneDrive/Documents/Graduacao/Trabalho%20Grafico/Finish/graficofinal.ipynb#W6sZmlsZQ%3D%3D?line=1'>2</a>\u001b[0m                  title\u001b[39m=\u001b[39m\u001b[39m'\u001b[39m\u001b[39mGÊNEROS MAIS BEM AVALIADOS NO MUNDO(>95\u001b[39m\u001b[39m%\u001b[39m\u001b[39m)\u001b[39m\u001b[39m'\u001b[39m,\n\u001b[0;32m      <a href='vscode-notebook-cell:/c%3A/Users/almei/OneDrive/Documents/Graduacao/Trabalho%20Grafico/Finish/graficofinal.ipynb#W6sZmlsZQ%3D%3D?line=2'>3</a>\u001b[0m                  color_discrete_sequence\u001b[39m=\u001b[39mpx\u001b[39m.\u001b[39mcolors\u001b[39m.\u001b[39mqualitative\u001b[39m.\u001b[39mBold,\n\u001b[0;32m      <a href='vscode-notebook-cell:/c%3A/Users/almei/OneDrive/Documents/Graduacao/Trabalho%20Grafico/Finish/graficofinal.ipynb#W6sZmlsZQ%3D%3D?line=3'>4</a>\u001b[0m                  template\u001b[39m=\u001b[39m\u001b[39m'\u001b[39m\u001b[39mplotly_dark\u001b[39m\u001b[39m'\u001b[39m)\n\u001b[1;32m----> <a href='vscode-notebook-cell:/c%3A/Users/almei/OneDrive/Documents/Graduacao/Trabalho%20Grafico/Finish/graficofinal.ipynb#W6sZmlsZQ%3D%3D?line=5'>6</a>\u001b[0m grafico\u001b[39m.\u001b[39;49mshow()\n",
      "File \u001b[1;32mc:\\Users\\almei\\AppData\\Local\\Programs\\Python\\Python310\\lib\\site-packages\\plotly\\basedatatypes.py:3398\u001b[0m, in \u001b[0;36mBaseFigure.show\u001b[1;34m(self, *args, **kwargs)\u001b[0m\n\u001b[0;32m   3365\u001b[0m \u001b[39m\"\"\"\u001b[39;00m\n\u001b[0;32m   3366\u001b[0m \u001b[39mShow a figure using either the default renderer(s) or the renderer(s)\u001b[39;00m\n\u001b[0;32m   3367\u001b[0m \u001b[39mspecified by the renderer argument\u001b[39;00m\n\u001b[1;32m   (...)\u001b[0m\n\u001b[0;32m   3394\u001b[0m \u001b[39mNone\u001b[39;00m\n\u001b[0;32m   3395\u001b[0m \u001b[39m\"\"\"\u001b[39;00m\n\u001b[0;32m   3396\u001b[0m \u001b[39mimport\u001b[39;00m \u001b[39mplotly\u001b[39;00m\u001b[39m.\u001b[39;00m\u001b[39mio\u001b[39;00m \u001b[39mas\u001b[39;00m \u001b[39mpio\u001b[39;00m\n\u001b[1;32m-> 3398\u001b[0m \u001b[39mreturn\u001b[39;00m pio\u001b[39m.\u001b[39mshow(\u001b[39mself\u001b[39m, \u001b[39m*\u001b[39margs, \u001b[39m*\u001b[39m\u001b[39m*\u001b[39mkwargs)\n",
      "File \u001b[1;32mc:\\Users\\almei\\AppData\\Local\\Programs\\Python\\Python310\\lib\\site-packages\\plotly\\io\\_renderers.py:396\u001b[0m, in \u001b[0;36mshow\u001b[1;34m(fig, renderer, validate, **kwargs)\u001b[0m\n\u001b[0;32m    391\u001b[0m         \u001b[39mraise\u001b[39;00m \u001b[39mValueError\u001b[39;00m(\n\u001b[0;32m    392\u001b[0m             \u001b[39m\"\u001b[39m\u001b[39mMime type rendering requires ipython but it is not installed\u001b[39m\u001b[39m\"\u001b[39m\n\u001b[0;32m    393\u001b[0m         )\n\u001b[0;32m    395\u001b[0m     \u001b[39mif\u001b[39;00m \u001b[39mnot\u001b[39;00m nbformat \u001b[39mor\u001b[39;00m LooseVersion(nbformat\u001b[39m.\u001b[39m__version__) \u001b[39m<\u001b[39m LooseVersion(\u001b[39m\"\u001b[39m\u001b[39m4.2.0\u001b[39m\u001b[39m\"\u001b[39m):\n\u001b[1;32m--> 396\u001b[0m         \u001b[39mraise\u001b[39;00m \u001b[39mValueError\u001b[39;00m(\n\u001b[0;32m    397\u001b[0m             \u001b[39m\"\u001b[39m\u001b[39mMime type rendering requires nbformat>=4.2.0 but it is not installed\u001b[39m\u001b[39m\"\u001b[39m\n\u001b[0;32m    398\u001b[0m         )\n\u001b[0;32m    400\u001b[0m     ipython_display\u001b[39m.\u001b[39mdisplay(bundle, raw\u001b[39m=\u001b[39m\u001b[39mTrue\u001b[39;00m)\n\u001b[0;32m    402\u001b[0m \u001b[39m# external renderers\u001b[39;00m\n",
      "\u001b[1;31mValueError\u001b[0m: Mime type rendering requires nbformat>=4.2.0 but it is not installed"
     ]
    }
   ],
   "source": [
    "grafico = px.bar(df, x='Gêneros', y='Quantidade', color=\"Gêneros\",\n",
    "                 title='GÊNEROS MAIS BEM AVALIADOS NO MUNDO(>95%)',\n",
    "                 color_discrete_sequence=px.colors.qualitative.Bold,\n",
    "                 template='plotly_dark')\n",
    "\n",
    "grafico.show()\n"
   ]
  },
  {
   "cell_type": "code",
   "execution_count": 17,
   "metadata": {},
   "outputs": [
    {
     "name": "stdout",
     "output_type": "stream",
     "text": [
      "Dash is running on http://127.0.0.1:8050/\n",
      "\n",
      " * Serving Flask app '__main__'\n",
      " * Debug mode: off\n"
     ]
    },
    {
     "name": "stderr",
     "output_type": "stream",
     "text": [
      "WARNING: This is a development server. Do not use it in a production deployment. Use a production WSGI server instead.\n",
      " * Running on http://127.0.0.1:8050\n",
      "Press CTRL+C to quit\n"
     ]
    }
   ],
   "source": [
    "app = Dash(__name__)\n",
    "\n",
    "app.layout = html.Main([\n",
    "    html.Div(className=\"vertical-container\", children=[\n",
    "        html.H1(\"Dash - Gêneros mais bem avaliados do mundo\"),\n",
    "    ]),\n",
    "    html.Div(children=[\n",
    "        html.Div(className='horizontal-container', children=[\n",
    "            html.Label('Selecione o intervalo de quantidade:'),\n",
    "            dcc.RangeSlider(min=0, max=100, step=10, value=[0, 100],\n",
    "                            id='slider-quantidade', className='slider'),\n",
    "        ]),\n",
    "        dcc.Graph(\n",
    "            id='generos-avaliados'\n",
    "        )\n",
    "    ])\n",
    "])\n",
    "\n",
    "\n",
    "@app.callback(\n",
    "    Output('generos-avaliados', 'figure'),\n",
    "    Input('slider-quantidade', 'value')\n",
    ")\n",
    "def update_graph(range_value):\n",
    "    valores_filtrados = []\n",
    "    menor_valor, maior_valor = range_value\n",
    "\n",
    "    for gen in conta_gen:\n",
    "        if gen > menor_valor and gen < maior_valor:\n",
    "            valores_filtrados.append(gen)\n",
    "\n",
    "    generos_filtrados = []\n",
    "    for gen_qtd in lista_gen_qtd:\n",
    "        if gen_qtd[1] > menor_valor and gen_qtd[1] < maior_valor:\n",
    "            generos_filtrados.append(gen_qtd[0])\n",
    "\n",
    "    indice = 0\n",
    "    lista_gen2_qtd2 = []\n",
    "    while indice < len(generos_filtrados):\n",
    "        gen_60 = [generos_filtrados[indice], valores_filtrados[indice]]\n",
    "        lista_gen2_qtd2.append(gen_60)\n",
    "        indice += 1\n",
    "\n",
    "    df2 = pd.DataFrame(lista_gen2_qtd2, columns=[\n",
    "                       'Gêneros', 'Frequência'])\n",
    "\n",
    "    grafico = px.bar(df2, x='Gêneros', y='Frequência', color=\"Gêneros\",\n",
    "                     title=f'GÊNEROS ENTRE {menor_valor} E {maior_valor} FILMES APROVADOS',\n",
    "                     color_discrete_sequence=px.colors.qualitative.Set1,\n",
    "                     template='plotly_dark')\n",
    "    return grafico\n",
    "\n",
    "\n",
    "if __name__ == '__main__':\n",
    "    app.run_server()"
   ]
  }
 ],
 "metadata": {
  "kernelspec": {
   "display_name": "Python 3.10.5 64-bit",
   "language": "python",
   "name": "python3"
  },
  "language_info": {
   "codemirror_mode": {
    "name": "ipython",
    "version": 3
   },
   "file_extension": ".py",
   "mimetype": "text/x-python",
   "name": "python",
   "nbconvert_exporter": "python",
   "pygments_lexer": "ipython3",
   "version": "3.10.5"
  },
  "orig_nbformat": 4,
  "vscode": {
   "interpreter": {
    "hash": "2c82b60ef33dcb08d48e0cff85a01b576ca94f5dc2fc1e7e12fa619a2b316e88"
   }
  }
 },
 "nbformat": 4,
 "nbformat_minor": 2
}
